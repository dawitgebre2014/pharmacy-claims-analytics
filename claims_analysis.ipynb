{
 "cells": [
  {
   "cell_type": "markdown",
   "id": "06fff352",
   "metadata": {},
   "source": [
    "# Pharmacy Claims Analysis\n",
    "This notebook demonstrates how to analyze synthetic pharmacy claims data using Python to identify cost trends and medication adherence insights."
   ]
  },
  {
   "cell_type": "code",
   "execution_count": null,
   "id": "18f904c3",
   "metadata": {},
   "outputs": [],
   "source": [
    "import pandas as pd\n",
    "import matplotlib.pyplot as plt\n",
    "import seaborn as sns\n",
    "from datetime import timedelta"
   ]
  },
  {
   "cell_type": "markdown",
   "id": "d1799d22",
   "metadata": {},
   "source": [
    "## Load Data"
   ]
  },
  {
   "cell_type": "code",
   "execution_count": null,
   "id": "5ba362e5",
   "metadata": {},
   "outputs": [],
   "source": [
    "df = pd.read_csv('pharmacy_claims.csv', parse_dates=['fill_date'])\n",
    "df.head()"
   ]
  },
  {
   "cell_type": "markdown",
   "id": "d68edb94",
   "metadata": {},
   "source": [
    "## Feature Engineering\n",
    "Calculate refill gaps and member-level medication possession ratio (MPR)."
   ]
  },
  {
   "cell_type": "code",
   "execution_count": null,
   "id": "6ea3e538",
   "metadata": {},
   "outputs": [],
   "source": [
    "# Sort by member and fill_date\n",
    "df = df.sort_values(by=['member_id', 'fill_date'])\n",
    "\n",
    "# Calculate refill gap\n",
    "df['prev_fill'] = df.groupby('member_id')['fill_date'].shift(1)\n",
    "df['refill_gap_days'] = (df['fill_date'] - df['prev_fill']).dt.days - df['days_supply']\n",
    "df['refill_gap_days'] = df['refill_gap_days'].apply(lambda x: x if x > 0 else 0)\n",
    "\n",
    "# MPR calculation\n",
    "member_summary = df.groupby('member_id').agg({\n",
    "    'days_supply': 'sum',\n",
    "    'fill_date': [min, max]\n",
    "}).reset_index()\n",
    "member_summary.columns = ['member_id', 'total_days_supplied', 'first_fill', 'last_fill']\n",
    "member_summary['period'] = (member_summary['last_fill'] - member_summary['first_fill']).dt.days + 30\n",
    "member_summary['MPR'] = member_summary['total_days_supplied'] / member_summary['period']\n",
    "member_summary.head()"
   ]
  },
  {
   "cell_type": "markdown",
   "id": "443a62f3",
   "metadata": {},
   "source": [
    "## Cost Summary"
   ]
  },
  {
   "cell_type": "code",
   "execution_count": null,
   "id": "638e16f2",
   "metadata": {},
   "outputs": [],
   "source": [
    "monthly_costs = df.copy()\n",
    "monthly_costs['month'] = monthly_costs['fill_date'].dt.to_period('M')\n",
    "monthly_summary = monthly_costs.groupby('month')['claim_cost'].sum().reset_index()\n",
    "monthly_summary['month'] = monthly_summary['month'].astype(str)\n",
    "monthly_summary"
   ]
  },
  {
   "cell_type": "markdown",
   "id": "15903901",
   "metadata": {},
   "source": [
    "## Visualizations"
   ]
  },
  {
   "cell_type": "code",
   "execution_count": null,
   "id": "ec7b3e75",
   "metadata": {},
   "outputs": [],
   "source": [
    "plt.figure(figsize=(10,5))\n",
    "sns.lineplot(data=monthly_summary, x='month', y='claim_cost', marker='o')\n",
    "plt.title('Total Claim Cost by Month')\n",
    "plt.xticks(rotation=45)\n",
    "plt.ylabel('Cost ($)')\n",
    "plt.tight_layout()\n",
    "plt.show()"
   ]
  },
  {
   "cell_type": "code",
   "execution_count": null,
   "id": "deec0574",
   "metadata": {},
   "outputs": [],
   "source": [
    "plt.figure(figsize=(10,5))\n",
    "sns.histplot(data=member_summary, x='MPR', bins=10, kde=True)\n",
    "plt.title('Distribution of Member MPR (Medication Adherence)')\n",
    "plt.xlabel('MPR')\n",
    "plt.show()"
   ]
  }
 ],
 "metadata": {},
 "nbformat": 4,
 "nbformat_minor": 5
}
